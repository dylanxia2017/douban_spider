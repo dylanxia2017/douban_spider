{
 "cells": [
  {
   "cell_type": "code",
   "execution_count": 4,
   "metadata": {},
   "outputs": [],
   "source": [
    "import requests\n",
    "from bs4 import BeautifulSoup\n",
    "from lxml import html\n",
    "import warnings\n",
    "from time import sleep\n",
    "import numpy as np\n",
    "from scrapy import Selector\n",
    "import pandas as pd\n",
    "from datetime import datetime\n",
    "import json\n",
    "import pickle\n",
    "import matplotlib.pyplot as plt\n",
    "%matplotlib inline\n",
    "from pyecharts import Bar\n",
    "from pyecharts import Pie\n",
    "import jieba\n",
    "from wordcloud import WordCloud, ImageColorGenerator, STOPWORDS\n",
    "import re\n",
    "from random import choice\n",
    "from imageio import imread"
   ]
  },
  {
   "cell_type": "code",
   "execution_count": 44,
   "metadata": {},
   "outputs": [],
   "source": [
    "df = pd.read_table(\"用户地区.txt\",header=None)"
   ]
  },
  {
   "cell_type": "code",
   "execution_count": 45,
   "metadata": {},
   "outputs": [],
   "source": [
    "df.columns = [\"地区分布\"]"
   ]
  },
  {
   "cell_type": "code",
   "execution_count": 46,
   "metadata": {},
   "outputs": [],
   "source": [
    "province = {\"厦门\":\"福建厦门\",\"长沙\":\"湖南长沙\",\"南京\":\"江苏南京\",\"西安\":\"陕西西安\",\"舟山\":\"浙江舟山\",\"杭州\":\"浙江杭州\",\n",
    "            \"青岛\":\"山东青岛\",\"成都\":\"四川成都\",\"郑州\":\"河南郑州\",\"台州\":\"浙江台州\",\"沈阳\":\"辽宁沈阳\",\"深圳\":\"广州深圳\",\n",
    "            \"南昌\":\"江西南昌\",\"武汉\":\"湖北武汉\",\"合肥\":\"安徽合肥\",\"苏州\":\"江苏苏州\",\"福州\":\"福建福州\",\"昆明\":\"云南昆明\",\n",
    "            \"遵义\":\"贵州遵义\",\"哈尔滨\":\"黑龙江哈尔滨\",\"金华\":\"浙江金华\",\"济南\":\"山东济南\",\"宜昌\":\"湖北宜昌\",\"安庆\":\"安徽安庆\",\n",
    "            \"太原\":\"山西太原\",\"漳州\":\"福建漳州\",\"宜宾\":\"四川宜宾\",\"扬州\":\"江苏扬州\",\"唐山\":\"河北唐山\",\"即墨\":\"山东青岛\",\"泉州\":\"福建泉州\",\n",
    "            \"开封\":\"河南开封\",\"渭南\":\"陕西渭南\",\"淄博\":\"山东淄博\",\"宜春\":\"江西宜春\",\"乐清, 温州\":\"浙江温州\",\"枣庄\":\"山东枣庄\",\n",
    "            \"邯郸\":\"河北邯郸\",\"邢台\":\"河北邢台\",\"绍兴\":\"浙江绍兴\",\"辽阳\":\"辽宁辽阳\",\"邵阳\":\"湖南\",\"宁波\":\"浙江宁波\",\"嘉兴\":\"浙江嘉兴\",\n",
    "            \"安康\":\"陕西安康\",\"菏泽\":\"山东菏泽\",\"玉林\":\"广西玉林\",\"庆阳\":\"甘肃庆阳\",\"芜湖\":\"安徽芜湖\",\"玉树\":\"青海玉树\",\"江门\":\"广东江门\",\n",
    "            \"日照\":\"山东日照\",\"昌吉\":\"新疆昌吉\",\"广州\":\"广东广州\",\"南通\":\"江苏南通\",\"鞍山\":\"辽宁鞍山\"\n",
    "            }"
   ]
  },
  {
   "cell_type": "code",
   "execution_count": 47,
   "metadata": {
    "scrolled": true
   },
   "outputs": [
    {
     "data": {
      "text/plain": [
       "{'厦门': '福建厦门',\n",
       " '长沙': '湖南长沙',\n",
       " '南京': '江苏南京',\n",
       " '西安': '陕西西安',\n",
       " '舟山': '浙江舟山',\n",
       " '杭州': '浙江杭州',\n",
       " '青岛': '山东青岛',\n",
       " '成都': '四川成都',\n",
       " '郑州': '河南郑州',\n",
       " '台州': '浙江台州',\n",
       " '沈阳': '辽宁沈阳',\n",
       " '深圳': '广州深圳',\n",
       " '南昌': '江西南昌',\n",
       " '武汉': '湖北武汉',\n",
       " '合肥': '安徽合肥',\n",
       " '苏州': '江苏苏州',\n",
       " '福州': '福建福州',\n",
       " '昆明': '云南昆明',\n",
       " '遵义': '贵州遵义',\n",
       " '哈尔滨': '黑龙江哈尔滨',\n",
       " '金华': '浙江金华',\n",
       " '济南': '山东济南',\n",
       " '宜昌': '湖北宜昌',\n",
       " '安庆': '安徽安庆',\n",
       " '太原': '山西太原',\n",
       " '漳州': '福建漳州',\n",
       " '宜宾': '四川宜宾',\n",
       " '扬州': '江苏扬州',\n",
       " '唐山': '河北唐山',\n",
       " '即墨': '山东青岛',\n",
       " '泉州': '福建泉州',\n",
       " '开封': '河南开封',\n",
       " '渭南': '陕西渭南',\n",
       " '淄博': '山东淄博',\n",
       " '宜春': '江西宜春',\n",
       " '乐清, 温州': '浙江温州',\n",
       " '枣庄': '山东枣庄',\n",
       " '邯郸': '河北邯郸',\n",
       " '邢台': '河北邢台',\n",
       " '绍兴': '浙江绍兴',\n",
       " '辽阳': '辽宁辽阳',\n",
       " '邵阳': '湖南',\n",
       " '宁波': '浙江宁波',\n",
       " '嘉兴': '浙江嘉兴',\n",
       " '安康': '陕西安康',\n",
       " '菏泽': '山东菏泽',\n",
       " '玉林': '广西玉林',\n",
       " '庆阳': '甘肃庆阳',\n",
       " '芜湖': '安徽芜湖',\n",
       " '玉树': '青海玉树',\n",
       " '江门': '广东江门',\n",
       " '日照': '山东日照',\n",
       " '昌吉': '新疆昌吉',\n",
       " '广州': '广东广州',\n",
       " '南通': '江苏南通',\n",
       " '鞍山': '辽宁鞍山'}"
      ]
     },
     "execution_count": 47,
     "metadata": {},
     "output_type": "execute_result"
    }
   ],
   "source": [
    "province"
   ]
  },
  {
   "cell_type": "code",
   "execution_count": 48,
   "metadata": {
    "scrolled": true
   },
   "outputs": [],
   "source": [
    "df = df[\"地区分布\"].replace(province)"
   ]
  },
  {
   "cell_type": "code",
   "execution_count": 49,
   "metadata": {
    "scrolled": true
   },
   "outputs": [
    {
     "data": {
      "text/plain": [
       "北京      95\n",
       "上海      74\n",
       "四川成都    49\n",
       "广东广州    32\n",
       "浙江杭州    26\n",
       "陕西西安    25\n",
       "江苏南京    24\n",
       "广东深圳    24\n",
       "湖北武汉    19\n",
       "湖南长沙    18\n",
       "福建厦门    17\n",
       "山东青岛    15\n",
       "重庆      14\n",
       "江苏苏州    13\n",
       "河南郑州    12\n",
       "天津      12\n",
       "安徽合肥    12\n",
       "河北邢台     8\n",
       "广州深圳     8\n",
       "山东济南     7\n",
       "Name: 地区分布, dtype: int64"
      ]
     },
     "execution_count": 49,
     "metadata": {},
     "output_type": "execute_result"
    }
   ],
   "source": [
    "df.value_counts().iloc[:20]"
   ]
  },
  {
   "cell_type": "code",
   "execution_count": 51,
   "metadata": {},
   "outputs": [],
   "source": [
    "## 直方图\n",
    "bar = Bar(\"观众分布\")\n",
    "bar.add(\"观众分布比较\",df.value_counts().iloc[:10].index, df.value_counts().iloc[:10])\n",
    "bar.render(\"观众分布.html\")"
   ]
  },
  {
   "cell_type": "code",
   "execution_count": 1,
   "metadata": {},
   "outputs": [],
   "source": [
    "status = [\"对感情不将就\",\"向往结婚\",\"健身减肥\",\"持续学习新技能\",\"独立攒首付买房\"]\n",
    "number = [0.662,0.56,0.411,0.335,0.238]"
   ]
  },
  {
   "cell_type": "code",
   "execution_count": 9,
   "metadata": {},
   "outputs": [],
   "source": [
    "bar = Bar(\"奔三90后报告\")\n",
    "bar.add(\"奔三90后报告\",status, number,is_convert = True)\n",
    "bar.render(\"奔三90后报告2.html\")"
   ]
  },
  {
   "cell_type": "code",
   "execution_count": 7,
   "metadata": {},
   "outputs": [],
   "source": [
    "pie = Pie(\"奔三90后报告\")\n",
    "pie.add(\"奔三90后报告\",status, number, is_label_show = True)\n",
    "pie.render(\"奔三90后报告.html\")"
   ]
  },
  {
   "cell_type": "code",
   "execution_count": 13,
   "metadata": {},
   "outputs": [],
   "source": [
    "status2 = [\"有压力\",\"没有压力\"]\n",
    "number2 = [0.984,0.016]\n",
    "pie = Pie(\"奔三90后的压力分布\")\n",
    "pie.add(\"奔三90后压力分布\",status2, number2, is_label_show = True)\n",
    "pie.render(\"奔三90后压力报告.html\")"
   ]
  },
  {
   "cell_type": "code",
   "execution_count": 15,
   "metadata": {},
   "outputs": [],
   "source": [
    "status3 = [\"房、车\",\"人情消费\",\"其他\"]\n",
    "number3 = [65.2,31.7,3.09999]\n",
    "pie = Pie(\"奔三90后压力来源\")\n",
    "pie.add(\"奔三90后压力来源\",status3, number3, is_label_show = True)\n",
    "pie.render(\"奔三90后压力来源报告.html\")"
   ]
  },
  {
   "cell_type": "code",
   "execution_count": 6,
   "metadata": {},
   "outputs": [],
   "source": [
    "companies = [\"Facebook\",\"LinkedIn\",\"Salesforce\",\"Google\",\"Apple\",\"Amazon\",\"Yahoo\",\"Nvidia\",\"eBay\",\"Adobe\",\"Microsoft\",\"Intel\",\"Dell\",\"IBM\",\"Oracle\",\"HP\"]\n",
    "ages = [28,29,29,30,31,31,31,32,32,33,33,34,35,38,39,39]\n",
    "\n",
    "\n",
    "bar = Bar(\"北美大型科技公司的职工平均年龄\")\n",
    "bar.add(\"北美大型科技公司的职工平均年龄\",companies, ages, is_label_show = True)\n",
    "bar.render(\"职工平均年龄.html\")"
   ]
  },
  {
   "cell_type": "code",
   "execution_count": 17,
   "metadata": {},
   "outputs": [],
   "source": [
    "topic = [\"工作\",\"生活\",\"毕业\",\"结婚\",\"父母\"]\n",
    "number4 = [4482, 3052, 1445, 1265, 1261]\n",
    "bar = Bar(\"知乎关键词词频统计\")\n",
    "bar.add(\"知乎关键词词频统计\",topic, number4 ,is_label_show = True)\n",
    "bar.render(\"关键词词频统计.html\")"
   ]
  },
  {
   "cell_type": "code",
   "execution_count": null,
   "metadata": {},
   "outputs": [],
   "source": []
  },
  {
   "cell_type": "code",
   "execution_count": null,
   "metadata": {},
   "outputs": [],
   "source": []
  },
  {
   "cell_type": "code",
   "execution_count": null,
   "metadata": {},
   "outputs": [],
   "source": []
  },
  {
   "cell_type": "code",
   "execution_count": null,
   "metadata": {},
   "outputs": [],
   "source": []
  },
  {
   "cell_type": "code",
   "execution_count": null,
   "metadata": {},
   "outputs": [],
   "source": []
  },
  {
   "cell_type": "code",
   "execution_count": 3,
   "metadata": {
    "scrolled": true
   },
   "outputs": [],
   "source": [
    "\n",
    "df_reviews = pd.read_table(\"./douban/评论集合.txt\", header = None)"
   ]
  },
  {
   "cell_type": "code",
   "execution_count": 4,
   "metadata": {},
   "outputs": [],
   "source": [
    "df_reviews.columns = [\"评论\"]"
   ]
  },
  {
   "cell_type": "code",
   "execution_count": 5,
   "metadata": {},
   "outputs": [],
   "source": [
    "actors = [\"范闲\",\"张若昀\",\"林婉儿\",\"李沁\",\"陈道明\",\"庆帝\",\"吴刚\",\"陈萍萍\",\"李小冉\",\"长公主\",\"袁泉\",\"叶轻眉\",\"于荣光\",\"肖恩\",\n",
    "         \"辛芷蕾\",\"海棠朵朵\",\"李纯\",\"司理理\",\"宋轶\",\"范若若\",\"郭麒麟\",\"范思辙\",\"肖战\",\"言冰云\"]"
   ]
  },
  {
   "cell_type": "code",
   "execution_count": 6,
   "metadata": {},
   "outputs": [],
   "source": [
    "actors_dict = {}\n",
    "for ac in actors:\n",
    "    actors_dict[ac] = 0"
   ]
  },
  {
   "cell_type": "code",
   "execution_count": 7,
   "metadata": {},
   "outputs": [],
   "source": [
    "for review in df_reviews[\"评论\"].tolist():\n",
    "    for actor in actors_dict.keys():\n",
    "        if actor in review:\n",
    "            actors_dict[actor] += 1"
   ]
  },
  {
   "cell_type": "code",
   "execution_count": 8,
   "metadata": {},
   "outputs": [
    {
     "data": {
      "text/plain": [
       "{'范闲': 50399,\n",
       " '张若昀': 3900,\n",
       " '林婉儿': 8374,\n",
       " '李沁': 2571,\n",
       " '陈道明': 5156,\n",
       " '庆帝': 15269,\n",
       " '吴刚': 2087,\n",
       " '陈萍萍': 6089,\n",
       " '李小冉': 1009,\n",
       " '长公主': 8849,\n",
       " '袁泉': 30,\n",
       " '叶轻眉': 6043,\n",
       " '于荣光': 378,\n",
       " '肖恩': 272,\n",
       " '辛芷蕾': 161,\n",
       " '海棠朵朵': 291,\n",
       " '李纯': 21,\n",
       " '司理理': 4736,\n",
       " '宋轶': 656,\n",
       " '范若若': 1611,\n",
       " '郭麒麟': 3421,\n",
       " '范思辙': 6441,\n",
       " '肖战': 1529,\n",
       " '言冰云': 676}"
      ]
     },
     "execution_count": 8,
     "metadata": {},
     "output_type": "execute_result"
    }
   ],
   "source": [
    "actors_dict"
   ]
  },
  {
   "cell_type": "code",
   "execution_count": 9,
   "metadata": {
    "scrolled": true
   },
   "outputs": [],
   "source": [
    "actor_pop = []\n",
    "for i in range(0, len(actors)-1, 2):\n",
    "    actor_pop.append(actors_dict[actors[i]] + actors_dict[actors[i + 1]])"
   ]
  },
  {
   "cell_type": "code",
   "execution_count": 10,
   "metadata": {},
   "outputs": [],
   "source": [
    "actor_char = []\n",
    "for i in range(0, len(actors)-1, 2):\n",
    "    actor_char.append(actors[i] + \"/\" + actors[i + 1])"
   ]
  },
  {
   "cell_type": "code",
   "execution_count": 11,
   "metadata": {},
   "outputs": [
    {
     "data": {
      "text/plain": [
       "['范闲/张若昀',\n",
       " '林婉儿/李沁',\n",
       " '陈道明/庆帝',\n",
       " '吴刚/陈萍萍',\n",
       " '李小冉/长公主',\n",
       " '袁泉/叶轻眉',\n",
       " '于荣光/肖恩',\n",
       " '辛芷蕾/海棠朵朵',\n",
       " '李纯/司理理',\n",
       " '宋轶/范若若',\n",
       " '郭麒麟/范思辙',\n",
       " '肖战/言冰云']"
      ]
     },
     "execution_count": 11,
     "metadata": {},
     "output_type": "execute_result"
    }
   ],
   "source": [
    "actor_char"
   ]
  },
  {
   "cell_type": "code",
   "execution_count": 12,
   "metadata": {},
   "outputs": [
    {
     "data": {
      "text/plain": [
       "[54299, 10945, 20425, 8176, 9858, 6073, 650, 452, 4757, 2267, 9862, 2205]"
      ]
     },
     "execution_count": 12,
     "metadata": {},
     "output_type": "execute_result"
    }
   ],
   "source": [
    "actor_pop"
   ]
  },
  {
   "cell_type": "code",
   "execution_count": 13,
   "metadata": {},
   "outputs": [],
   "source": [
    "## 人物人气的直方图\n",
    "bar = Bar('人物人气排名', '人物人气')\n",
    "bar.add('人物人气排名',actor_char,actor_pop, is_label_show = True)\n",
    "bar.render(\"人物人气排名.html\")"
   ]
  },
  {
   "cell_type": "code",
   "execution_count": 14,
   "metadata": {},
   "outputs": [],
   "source": [
    "## 评分的直方图\n",
    "rates = [\"5星\",\"4星\",\"3星\",\"2星\",\"1星\"]\n",
    "num = [30.1, 46.2,16.7, 4.5, 2.5]\n",
    "pie = Pie(\"评分统计\")\n",
    "pie.add(\"人数\",rates, num, center = [25, 50], is_random = True, radius = [30, 75], rosetype = 'area', is_label_show = True)\n",
    "pie.render(\"评分统计.html\")"
   ]
  },
  {
   "cell_type": "code",
   "execution_count": 15,
   "metadata": {},
   "outputs": [],
   "source": [
    "fanxian = []\n",
    "lixin = []\n",
    "chendaomin = []\n",
    "lixiaoran = []\n",
    "guoqilin = []\n",
    "lichun = []\n",
    "for review in df_reviews[\"评论\"].tolist():\n",
    "    if \"范闲\" in review or \"张若昀\" in review:\n",
    "        fanxian.append(review)\n",
    "    elif \"林婉儿\" in review or \"李沁\" in review:\n",
    "        lixin.append(review)\n",
    "    elif \"陈道明\" in review or \"庆帝\" in review:\n",
    "        chendaomin.append(review)\n",
    "    elif \"李小冉\" in review or \"长公主\" in review:\n",
    "        chendaomin.append(review)\n",
    "    elif \"李纯\" in review or \"司理理\" in review:\n",
    "        lichun.append(review)\n",
    "    elif \"郭麒麟\" in review or \"范思辙\" in review:\n",
    "        guoqilin.append(review)\n",
    "    "
   ]
  },
  {
   "cell_type": "code",
   "execution_count": 17,
   "metadata": {},
   "outputs": [],
   "source": [
    "import jieba.posseg\n",
    "STOP_WORDS = set([line.strip() for line in open(\"./douban/chineseStopWords.txt\", encoding = \"GBK\").readlines()])"
   ]
  },
  {
   "cell_type": "code",
   "execution_count": 18,
   "metadata": {},
   "outputs": [],
   "source": [
    "STOP_WORDS.add(\"范闲\")"
   ]
  },
  {
   "cell_type": "code",
   "execution_count": 19,
   "metadata": {},
   "outputs": [],
   "source": [
    "STOP_WORDS.add(\"庆帝\")\n",
    "STOP_WORDS.add(\"张若昀\")\n",
    "STOP_WORDS.add(\"范建\")\n",
    "STOP_WORDS.add(\"太子\")\n",
    "STOP_WORDS.add(\"演员\")\n",
    "STOP_WORDS.add(\"叶轻眉\")\n",
    "STOP_WORDS.add(\"主角\")\n",
    "STOP_WORDS.add(\"儿子\")\n",
    "STOP_WORDS.add(\"皇帝\")\n",
    "STOP_WORDS.add(\"观众\")\n",
    "STOP_WORDS.add(\"公主\")\n",
    "STOP_WORDS.add(\"不想\")\n",
    "STOP_WORDS.add(\"内裤\")\n",
    "STOP_WORDS.add(\"想要\")\n",
    "STOP_WORDS.add(\"身份\")\n",
    "STOP_WORDS.add(\"角色\")\n",
    "STOP_WORDS.add(\"小范\")\n",
    "STOP_WORDS.add(\"内裤\")\n",
    "STOP_WORDS.add(\"皇子\")\n",
    "STOP_WORDS.add(\"世界\")\n",
    "STOP_WORDS.add(\"穿越\")\n",
    "STOP_WORDS.add(\"陈道明\")\n",
    "STOP_WORDS.add(\"弟弟\")\n",
    "STOP_WORDS.add(\"内裤\")\n",
    "STOP_WORDS.add(\"姨娘\")\n",
    "STOP_WORDS.add(\"感觉\")\n",
    "STOP_WORDS.add(\"王启年\")\n",
    "\n"
   ]
  },
  {
   "cell_type": "code",
   "execution_count": 20,
   "metadata": {},
   "outputs": [],
   "source": [
    "STOP_WORDS = set(STOP_WORDS)"
   ]
  },
  {
   "cell_type": "code",
   "execution_count": 21,
   "metadata": {},
   "outputs": [],
   "source": [
    "def cut_words_with_pos(text):\n",
    "    seg = jieba.posseg.cut(text)\n",
    "    res = []\n",
    "    for i in seg:\n",
    "        if i.flag in [\"a\", \"v\", \"x\", \"n\", \"an\", \"vn\", \"nz\", \"nt\", \"nr\"] and is_fine_word(i.word):\n",
    "            res.append(i.word)\n",
    "    return list(res)\n",
    "\n",
    "# 过滤词长，过滤停用词，只保留中文\n",
    "def is_fine_word(word, min_length=2):\n",
    "    rule = re.compile(r\"^[\\u4e00-\\u9fa5]+$\")\n",
    "    if len(word) >= min_length and word not in STOP_WORDS and re.search(rule, word):\n",
    "        return True\n",
    "    else:\n",
    "        return False\n",
    "    \n",
    "    \n",
    "def count_words(texts):\n",
    "    word_list = []\n",
    "    for line in texts:\n",
    "        words = cut_words_with_pos(line)\n",
    "        word_list += words\n",
    "\n",
    "    # 统计词频并按照词频由大到小排序，取top500\n",
    "    cnt = pd.Series(word_list).value_counts().head(500)\n",
    "\n",
    "    # 返回字典格式\n",
    "    return cnt.to_dict()\n",
    "\n",
    "# 定义颜色，方法很多，这里用到的方法是在四个颜色中随机抽取\n",
    "def my_color_func(word, font_size, position, orientation, random_state=None, **kwargs):\n",
    "    return choice([\"rgb(94,38,18)\", \"rgb(41,36,33)\", \"rgb(128,128,105)\", \"rgb(112,128,105)\"])\n",
    "\n",
    "def draw_cloud(mask_path, word_freq, save_path):\n",
    "    mask = imread(mask_path)  #读取图片\n",
    "    wc = WordCloud(font_path='./douban/kaiti.TTF',  # 设置字体\n",
    "                   background_color=\"white\",  # 背景颜色\n",
    "                   max_words=500,  # 词云显示的最大词数\n",
    "                   mask=mask,  # 设置背景图片\n",
    "                   max_font_size=80,  # 字体最大值\n",
    "                   random_state=42,\n",
    "                   )\n",
    "    # generate_from_frequencies方法，从词频产生词云输入\n",
    "    wc.generate_from_frequencies(word_freq)\n",
    "    \n",
    "    plt.figure()\n",
    "    plt.imshow(wc.recolor(color_func=my_color_func), interpolation='bilinear')\n",
    "    plt.axis(\"off\")\n",
    "    wc.to_file(save_path)\n",
    "    plt.show()"
   ]
  },
  {
   "cell_type": "code",
   "execution_count": 43,
   "metadata": {},
   "outputs": [
    {
     "data": {
      "image/png": "[encoded data removed]",
      "text/plain": [
       "<Figure size 432x288 with 1 Axes>"
      ]
     },
     "metadata": {
      "needs_background": "light"
     },
     "output_type": "display_data"
    }
   ],
   "source": [
    "# 获取关键词及词频\n",
    "input_freq = count_words(fanxian)\n",
    "draw_cloud(\"pic.jpg\", input_freq, \"fanxian.png\")"
   ]
  }
 ],
 "metadata": {
  "kernelspec": {
   "display_name": "Python 3",
   "language": "python",
   "name": "python3"
  },
  "language_info": {
   "codemirror_mode": {
    "name": "ipython",
    "version": 3
   },
   "file_extension": ".py",
   "mimetype": "text/x-python",
   "name": "python",
   "nbconvert_exporter": "python",
   "pygments_lexer": "ipython3",
   "version": "3.7.4"
  }
 },
 "nbformat": 4,
 "nbformat_minor": 2
}
